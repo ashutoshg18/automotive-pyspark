{
 "cells": [
  {
   "cell_type": "code",
   "execution_count": 1,
   "metadata": {},
   "outputs": [],
   "source": [
    "from pyspark.sql import SparkSession\n",
    "from pyspark.sql.types import StructType, StructField, StringType, LongType, IntegerType, DoubleType"
   ]
  },
  {
   "cell_type": "code",
   "execution_count": 2,
   "metadata": {},
   "outputs": [],
   "source": [
    "spark = SparkSession.builder.appName(\"Automotive Scenario\").getOrCreate()"
   ]
  },
  {
   "cell_type": "code",
   "execution_count": 3,
   "metadata": {},
   "outputs": [],
   "source": [
    "order_schema = StructType([\n",
    "    StructField('OrderID',StringType(),True),\n",
    "    StructField('CompanyID',StringType(),True),\n",
    "    StructField('PartsRequired',StringType(),True),\n",
    "    StructField('OrderQuantity',LongType(),True),\n",
    "    StructField('CostOfPart',DoubleType(),True),\n",
    "    StructField('OrderDate',StringType(),True),\n",
    "    StructField('ExpectedDeliveryDate',StringType(),True),\n",
    "    StructField('DeliveryStatus',StringType(),True)\n",
    "])"
   ]
  },
  {
   "cell_type": "code",
   "execution_count": 4,
   "metadata": {},
   "outputs": [],
   "source": [
    "company_schema = StructType([\n",
    "    StructField('CompanyID',StringType(),True),\n",
    "    StructField('CompanyName',StringType(),True),\n",
    "    StructField('CompanyLocation',StringType(),True),\n",
    "    StructField('CompanyContact',LongType(),True),\n",
    "    StructField('EstablishedYear',IntegerType(),True)\n",
    "])"
   ]
  },
  {
   "cell_type": "code",
   "execution_count": 5,
   "metadata": {},
   "outputs": [],
   "source": [
    "order_book_df = spark.read.csv('./OrderBook.csv',schema=order_schema)"
   ]
  },
  {
   "cell_type": "code",
   "execution_count": 6,
   "metadata": {},
   "outputs": [],
   "source": [
    "company_details_df = spark.read.csv('./CompanyDetails.csv',schema=company_schema)"
   ]
  },
  {
   "cell_type": "code",
   "execution_count": 7,
   "metadata": {},
   "outputs": [
    {
     "name": "stdout",
     "output_type": "stream",
     "text": [
      "+-------+---------+--------------------+-------------+----------+---------+--------------------+--------------+\n",
      "|OrderID|CompanyID|       PartsRequired|OrderQuantity|CostOfPart|OrderDate|ExpectedDeliveryDate|DeliveryStatus|\n",
      "+-------+---------+--------------------+-------------+----------+---------+--------------------+--------------+\n",
      "|OD10001|    C1108|        Spring Forks|        21103|9487867.48| 3-Nov-19|           24-Dec-19|       Pending|\n",
      "|OD10002|    C1035|              Fender|        26272|4899369.32|18-Dec-19|           14-Mar-20|       Pending|\n",
      "|OD10003|    C1174|           Generator|        39789|4008848.49| 7-Dec-19|           31-Jan-20|     Delivered|\n",
      "|OD10004|    C1121|              Brakes|        22670|7932390.15|21-Nov-19|            5-Mar-20|       Pending|\n",
      "|OD10005|    C1093|       Exhaust Pipes|        36773|6101829.61| 8-Dec-19|            9-Mar-20|       Pending|\n",
      "|OD10006|    C1166|       Exhaust Pipes|        46571|8704566.05|19-Dec-19|           10-Jan-20|       Pending|\n",
      "|OD10007|    C1030|     Ignition Switch|        28519|9635904.98| 4-Dec-19|           28-Jan-20|       Pending|\n",
      "|OD10008|    C1092|                Horn|        34745|4907497.55|10-Dec-19|           12-Mar-20|     Delivered|\n",
      "|OD10009|    C1135|         Hand Clutch|        27246|6667701.97| 9-Dec-19|            7-Jan-20|       Pending|\n",
      "|OD10010|    C1045|     Ignition Switch|        45392|9522045.75|16-Dec-19|           12-Jan-20|     Delivered|\n",
      "|OD10011|    C1027|          Safety Bar|        46650|9875771.29|10-Nov-19|           26-Jan-20|     Delivered|\n",
      "|OD10012|    C1121|            Oil Tank|        22509| 8501074.4|28-Oct-19|            8-Jan-20|       Pending|\n",
      "|OD10013|    C1078|             Muffler|        33612| 2323395.6|18-Dec-19|            9-Jan-20|     Delivered|\n",
      "|OD10014|    C1076|                Horn|        55747|1676391.19| 3-Nov-19|            1-Mar-20|       Pending|\n",
      "|OD10015|    C1020|         Speedometer|        21080|1323523.14| 4-Nov-19|           25-Mar-20|       Pending|\n",
      "|OD10016|    C1001|              Engine|        42101|5118078.25|13-Oct-19|           29-Feb-20|     Delivered|\n",
      "|OD10017|    C1064|Ignition Circuit ...|        41117| 5630252.2| 9-Dec-19|           31-Jan-20|       Pending|\n",
      "|OD10018|    C1073|     Ignition Switch|        44926|3601243.24| 5-Dec-19|            1-Feb-20|       Pending|\n",
      "|OD10019|    C1165|     Ignition Switch|        34487|6893359.34|12-Dec-19|           24-Feb-20|       Pending|\n",
      "|OD10020|    C1102|         Speedometer|        28687|8445328.46| 6-Nov-19|           17-Mar-20|     Delivered|\n",
      "+-------+---------+--------------------+-------------+----------+---------+--------------------+--------------+\n",
      "only showing top 20 rows\n",
      "\n"
     ]
    }
   ],
   "source": [
    "order_book_df.show()"
   ]
  },
  {
   "cell_type": "code",
   "execution_count": 8,
   "metadata": {},
   "outputs": [
    {
     "name": "stdout",
     "output_type": "stream",
     "text": [
      "+---------+----------------+---------------+--------------+---------------+\n",
      "|CompanyID|     CompanyName|CompanyLocation|CompanyContact|EstablishedYear|\n",
      "+---------+----------------+---------------+--------------+---------------+\n",
      "|    C1001|    Steel Wheels|   Pennsylvania|    7172809057|           2007|\n",
      "|    C1002|   MotoLab Bikes|          Texas|    6829309477|           2011|\n",
      "|    C1003|        Lee Auto|     California|    6193601290|           1994|\n",
      "|    C1004|     Zoom Dynamo|          Texas|    8327309957|           1993|\n",
      "|    C1005|Quakesons Motors|          Texas|    8175902345|           2002|\n",
      "|    C1006|    Steel Wheels|   Pennsylvania|    5706889534|           2009|\n",
      "|    C1007|     Raido Bikes|         Hawaii|    8086946394|           2001|\n",
      "|    C1008|    Steel Wheels|      Tennessee|    6155558344|           2012|\n",
      "|    C1009| Ilmio Jane Moto|   Pennsylvania|    6108768782|           2007|\n",
      "|    C1010|      Reo Bailio|         Kansas|    7857454105|           2012|\n",
      "|    C1011|    Steel Wheels|        Arizona|    6026446720|           1992|\n",
      "|    C1012|Wingmo Standards|     Washington|    5091629062|           2006|\n",
      "|    C1013|    Craiko Roads|           Iowa|    3191050692|           1990|\n",
      "|    C1014|      Reo Bailio|     California|    6195580058|           1995|\n",
      "|    C1015|    Craiko Roads|  Massachusetts|    9787302834|           1991|\n",
      "|    C1016|  Osborne Fields|  Massachusetts|    4132534690|           2012|\n",
      "|    C1017|       Rigmarole|   Pennsylvania|    8143178647|           2006|\n",
      "|    C1018|     Raido Bikes|       Illinois|    8476652456|           1998|\n",
      "|    C1019|     Zoom Dynamo|       Oklahoma|    9183903501|           1992|\n",
      "|    C1020|       Rigmarole|     New Jersey|    8624680309|           2003|\n",
      "+---------+----------------+---------------+--------------+---------------+\n",
      "only showing top 20 rows\n",
      "\n"
     ]
    }
   ],
   "source": [
    "company_details_df.show()"
   ]
  },
  {
   "cell_type": "code",
   "execution_count": 9,
   "metadata": {},
   "outputs": [],
   "source": [
    "company_details_df.createOrReplaceTempView('Company_table')"
   ]
  },
  {
   "cell_type": "code",
   "execution_count": 10,
   "metadata": {},
   "outputs": [],
   "source": [
    "old_comp = spark.sql('select * from Company_table where EstablishedYear <= 2008')"
   ]
  },
  {
   "cell_type": "code",
   "execution_count": 11,
   "metadata": {},
   "outputs": [],
   "source": [
    "from pyspark.sql.functions import col, expr"
   ]
  },
  {
   "cell_type": "code",
   "execution_count": 12,
   "metadata": {},
   "outputs": [
    {
     "name": "stdout",
     "output_type": "stream",
     "text": [
      "+---------+----------------+---------------+--------------+---------------+\n",
      "|CompanyID|     CompanyName|CompanyLocation|CompanyContact|EstablishedYear|\n",
      "+---------+----------------+---------------+--------------+---------------+\n",
      "|    C1001|    Steel Wheels|   Pennsylvania|    7172809057|           2007|\n",
      "|    C1003|        Lee Auto|     California|    6193601290|           1994|\n",
      "|    C1004|     Zoom Dynamo|          Texas|    8327309957|           1993|\n",
      "|    C1005|Quakesons Motors|          Texas|    8175902345|           2002|\n",
      "|    C1007|     Raido Bikes|         Hawaii|    8086946394|           2001|\n",
      "|    C1009| Ilmio Jane Moto|   Pennsylvania|    6108768782|           2007|\n",
      "|    C1011|    Steel Wheels|        Arizona|    6026446720|           1992|\n",
      "|    C1012|Wingmo Standards|     Washington|    5091629062|           2006|\n",
      "|    C1013|    Craiko Roads|           Iowa|    3191050692|           1990|\n",
      "|    C1014|      Reo Bailio|     California|    6195580058|           1995|\n",
      "|    C1015|    Craiko Roads|  Massachusetts|    9787302834|           1991|\n",
      "|    C1017|       Rigmarole|   Pennsylvania|    8143178647|           2006|\n",
      "|    C1018|     Raido Bikes|       Illinois|    8476652456|           1998|\n",
      "|    C1019|     Zoom Dynamo|       Oklahoma|    9183903501|           1992|\n",
      "|    C1020|       Rigmarole|     New Jersey|    8624680309|           2003|\n",
      "|    C1021|       Rigmarole|       Colorado|    7196867948|           2007|\n",
      "|    C1022|     Zoom Dynamo|     California|    6191426647|           1995|\n",
      "|    C1023| Ilmio Jane Moto|      Louisiana|    3189460123|           1993|\n",
      "|    C1024|         Neopins| North Carolina|    3362990838|           2007|\n",
      "|    C1025|     Wicker Auto|   North Dakota|    7011993313|           2006|\n",
      "+---------+----------------+---------------+--------------+---------------+\n",
      "only showing top 20 rows\n",
      "\n"
     ]
    }
   ],
   "source": [
    "old_comp.show()"
   ]
  },
  {
   "cell_type": "code",
   "execution_count": 13,
   "metadata": {},
   "outputs": [],
   "source": [
    "combined_df = order_book_df.join(company_details_df,on='CompanyID')"
   ]
  },
  {
   "cell_type": "code",
   "execution_count": 14,
   "metadata": {},
   "outputs": [
    {
     "name": "stdout",
     "output_type": "stream",
     "text": [
      "+---------+-------+--------------------+-------------+----------+---------+--------------------+--------------+----------------+---------------+--------------+---------------+\n",
      "|CompanyID|OrderID|       PartsRequired|OrderQuantity|CostOfPart|OrderDate|ExpectedDeliveryDate|DeliveryStatus|     CompanyName|CompanyLocation|CompanyContact|EstablishedYear|\n",
      "+---------+-------+--------------------+-------------+----------+---------+--------------------+--------------+----------------+---------------+--------------+---------------+\n",
      "|    C1108|OD10001|        Spring Forks|        21103|9487867.48| 3-Nov-19|           24-Dec-19|       Pending|     Raido Bikes|        Georgia|    9125860714|           1995|\n",
      "|    C1035|OD10002|              Fender|        26272|4899369.32|18-Dec-19|           14-Mar-20|       Pending| Ilmio Jane Moto| North Carolina|    9105420265|           2000|\n",
      "|    C1174|OD10003|           Generator|        39789|4008848.49| 7-Dec-19|           31-Jan-20|     Delivered|   MotoLab Bikes|         Nevada|    7026382385|           2001|\n",
      "|    C1121|OD10004|              Brakes|        22670|7932390.15|21-Nov-19|            5-Mar-20|       Pending|        Lee Auto|         Oregon|    9714807706|           2006|\n",
      "|    C1093|OD10005|       Exhaust Pipes|        36773|6101829.61| 8-Dec-19|            9-Mar-20|       Pending|Quakesons Motors|     California|    9512994373|           1999|\n",
      "|    C1166|OD10006|       Exhaust Pipes|        46571|8704566.05|19-Dec-19|           10-Jan-20|       Pending|       Rigmarole|       New York|    7189312978|           2006|\n",
      "|    C1030|OD10007|     Ignition Switch|        28519|9635904.98| 4-Dec-19|           28-Jan-20|       Pending|        Lee Auto|         Kansas|    9134793264|           2008|\n",
      "|    C1092|OD10008|                Horn|        34745|4907497.55|10-Dec-19|           12-Mar-20|     Delivered|     Zoom Dynamo|     Washington|    5096873496|           2006|\n",
      "|    C1135|OD10009|         Hand Clutch|        27246|6667701.97| 9-Dec-19|            7-Jan-20|       Pending| Ilmio Jane Moto|        Georgia|    4047754455|           1995|\n",
      "|    C1045|OD10010|     Ignition Switch|        45392|9522045.75|16-Dec-19|           12-Jan-20|     Delivered|    Damson Bikes|        Alabama|    2513483895|           2009|\n",
      "|    C1027|OD10011|          Safety Bar|        46650|9875771.29|10-Nov-19|           26-Jan-20|     Delivered|     Wicker Auto| North Carolina|    7042851066|           1991|\n",
      "|    C1121|OD10012|            Oil Tank|        22509| 8501074.4|28-Oct-19|            8-Jan-20|       Pending|        Lee Auto|         Oregon|    9714807706|           2006|\n",
      "|    C1078|OD10013|             Muffler|        33612| 2323395.6|18-Dec-19|            9-Jan-20|     Delivered|    Craiko Roads|      Wisconsin|    6085764979|           2011|\n",
      "|    C1076|OD10014|                Horn|        55747|1676391.19| 3-Nov-19|            1-Mar-20|       Pending|     Raido Bikes|      Louisiana|    3181052482|           2000|\n",
      "|    C1020|OD10015|         Speedometer|        21080|1323523.14| 4-Nov-19|           25-Mar-20|       Pending|       Rigmarole|     New Jersey|    8624680309|           2003|\n",
      "|    C1001|OD10016|              Engine|        42101|5118078.25|13-Oct-19|           29-Feb-20|     Delivered|    Steel Wheels|   Pennsylvania|    7172809057|           2007|\n",
      "|    C1064|OD10017|Ignition Circuit ...|        41117| 5630252.2| 9-Dec-19|           31-Jan-20|       Pending|     Zoom Dynamo|  West Virginia|    3049960187|           2000|\n",
      "|    C1073|OD10018|     Ignition Switch|        44926|3601243.24| 5-Dec-19|            1-Feb-20|       Pending| Ilmio Jane Moto|        Florida|    3059188923|           2001|\n",
      "|    C1165|OD10019|     Ignition Switch|        34487|6893359.34|12-Dec-19|           24-Feb-20|       Pending|Quakesons Motors|       New York|    2125808785|           2012|\n",
      "|    C1102|OD10020|         Speedometer|        28687|8445328.46| 6-Nov-19|           17-Mar-20|     Delivered|    Laser Wheels|        Florida|    7547708102|           2011|\n",
      "+---------+-------+--------------------+-------------+----------+---------+--------------------+--------------+----------------+---------------+--------------+---------------+\n",
      "only showing top 20 rows\n",
      "\n"
     ]
    }
   ],
   "source": [
    "combined_df.show()"
   ]
  },
  {
   "cell_type": "code",
   "execution_count": 15,
   "metadata": {},
   "outputs": [],
   "source": [
    "combined_df.createOrReplaceTempView('combined_table')"
   ]
  },
  {
   "cell_type": "code",
   "execution_count": 16,
   "metadata": {},
   "outputs": [],
   "source": [
    "brakes_only = spark.sql(\"select CompanyName from combined_table where PartsRequired == 'Brakes'\")"
   ]
  },
  {
   "cell_type": "code",
   "execution_count": 17,
   "metadata": {},
   "outputs": [
    {
     "name": "stdout",
     "output_type": "stream",
     "text": [
      "+------------------+\n",
      "|       CompanyName|\n",
      "+------------------+\n",
      "|          Lee Auto|\n",
      "|         Rigmarole|\n",
      "|       Wicker Auto|\n",
      "|        Kioto Moto|\n",
      "|  Quakesons Motors|\n",
      "|     MotoLab Bikes|\n",
      "|           Neopins|\n",
      "|      Laser Wheels|\n",
      "|         Rigmarole|\n",
      "|Maino World Motors|\n",
      "|Maino World Motors|\n",
      "|      Craiko Roads|\n",
      "|      Steel Wheels|\n",
      "|       Raido Bikes|\n",
      "|           Neopins|\n",
      "|       Zoom Dynamo|\n",
      "|      Laser Wheels|\n",
      "|        Kioto Moto|\n",
      "|   Ilmio Jane Moto|\n",
      "|        Reo Bailio|\n",
      "+------------------+\n",
      "only showing top 20 rows\n",
      "\n"
     ]
    }
   ],
   "source": [
    "brakes_only.show()"
   ]
  },
  {
   "cell_type": "code",
   "execution_count": 18,
   "metadata": {},
   "outputs": [],
   "source": [
    "exhaust = spark.sql(\"select count(PartsRequired) from combined_table where PartsRequired == 'Exhaust Pipes' AND CompanyLocation == 'New York' \")"
   ]
  },
  {
   "cell_type": "code",
   "execution_count": 19,
   "metadata": {},
   "outputs": [
    {
     "name": "stdout",
     "output_type": "stream",
     "text": [
      "+--------------------+\n",
      "|count(PartsRequired)|\n",
      "+--------------------+\n",
      "|                   2|\n",
      "+--------------------+\n",
      "\n"
     ]
    }
   ],
   "source": [
    "exhaust.show()"
   ]
  },
  {
   "cell_type": "code",
   "execution_count": 20,
   "metadata": {},
   "outputs": [],
   "source": [
    "delivered = spark.sql('select count(DeliveryStatus) from combined_table where DeliveryStatus == \"Delivered\"')"
   ]
  },
  {
   "cell_type": "code",
   "execution_count": 21,
   "metadata": {},
   "outputs": [
    {
     "name": "stdout",
     "output_type": "stream",
     "text": [
      "+---------------------+\n",
      "|count(DeliveryStatus)|\n",
      "+---------------------+\n",
      "|                  255|\n",
      "+---------------------+\n",
      "\n"
     ]
    }
   ],
   "source": [
    "delivered.show()"
   ]
  },
  {
   "cell_type": "code",
   "execution_count": 22,
   "metadata": {},
   "outputs": [],
   "source": [
    "north_cal = spark.sql(\"select sum(OrderQuantity), sum(CostOfPart) from combined_table where CompanyLocation == 'North Carolina'\")"
   ]
  },
  {
   "cell_type": "code",
   "execution_count": 23,
   "metadata": {},
   "outputs": [
    {
     "name": "stdout",
     "output_type": "stream",
     "text": [
      "+------------------+---------------+\n",
      "|sum(OrderQuantity)|sum(CostOfPart)|\n",
      "+------------------+---------------+\n",
      "|            974157| 1.4936626449E8|\n",
      "+------------------+---------------+\n",
      "\n"
     ]
    }
   ],
   "source": [
    "north_cal.show()"
   ]
  },
  {
   "cell_type": "code",
   "execution_count": 24,
   "metadata": {},
   "outputs": [],
   "source": [
    "exhaust_dates = spark.sql(\"select OrderDate AS StartDate, ExpectedDeliveryDate AS EndDate, CompanyName from combined_table where PartsRequired == 'Exhaust Pipes'\")"
   ]
  },
  {
   "cell_type": "code",
   "execution_count": 25,
   "metadata": {},
   "outputs": [
    {
     "name": "stdout",
     "output_type": "stream",
     "text": [
      "+---------+---------+------------------+\n",
      "|StartDate|  EndDate|       CompanyName|\n",
      "+---------+---------+------------------+\n",
      "| 8-Dec-19| 9-Mar-20|  Quakesons Motors|\n",
      "|19-Dec-19|10-Jan-20|         Rigmarole|\n",
      "|18-Oct-19|13-Mar-20|Maino World Motors|\n",
      "|26-Nov-19|22-Dec-19|       Zoom Dynamo|\n",
      "|20-Oct-19| 2-Jan-20|          Lee Auto|\n",
      "|12-Nov-19| 8-Jan-20|Maino World Motors|\n",
      "|30-Oct-19| 7-Feb-20|       Raido Bikes|\n",
      "|11-Oct-19|11-Mar-20|Nando Kewillswitch|\n",
      "|27-Oct-19|28-Jan-20|   Ilmio Jane Moto|\n",
      "|25-Oct-19|28-Feb-20|Maino World Motors|\n",
      "|18-Nov-19| 8-Mar-20|Maino World Motors|\n",
      "|14-Oct-19| 6-Mar-20|  Quakesons Motors|\n",
      "| 5-Nov-19|14-Jan-20|         Rigmarole|\n",
      "| 8-Dec-19|12-Jan-20|      Craiko Roads|\n",
      "| 9-Nov-19|10-Mar-20|      Damson Bikes|\n",
      "|27-Oct-19|25-Dec-19|      Steel Wheels|\n",
      "|19-Dec-19|17-Feb-20|  Quakesons Motors|\n",
      "|24-Oct-19|22-Mar-20|        Reo Bailio|\n",
      "| 8-Dec-19|25-Jan-20|  Quakesons Motors|\n",
      "| 6-Dec-19|14-Jan-20|        Reo Bailio|\n",
      "+---------+---------+------------------+\n",
      "only showing top 20 rows\n",
      "\n"
     ]
    }
   ],
   "source": [
    "exhaust_dates.show()"
   ]
  },
  {
   "cell_type": "code",
   "execution_count": null,
   "metadata": {},
   "outputs": [],
   "source": []
  }
 ],
 "metadata": {
  "kernelspec": {
   "display_name": "Python 3",
   "language": "python",
   "name": "python3"
  },
  "language_info": {
   "codemirror_mode": {
    "name": "ipython",
    "version": 3
   },
   "file_extension": ".py",
   "mimetype": "text/x-python",
   "name": "python",
   "nbconvert_exporter": "python",
   "pygments_lexer": "ipython3",
   "version": "3.10.0"
  },
  "orig_nbformat": 4,
  "vscode": {
   "interpreter": {
    "hash": "52634da84371cba311ea128a5ea7cdc41ff074b781779e754b270ff9f8153cee"
   }
  }
 },
 "nbformat": 4,
 "nbformat_minor": 2
}
